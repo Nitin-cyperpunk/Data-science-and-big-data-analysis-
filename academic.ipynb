{
 "cells": [
  {
   "cell_type": "code",
   "execution_count": 4,
   "id": "8a2d5b63",
   "metadata": {},
   "outputs": [],
   "source": [
    "\n",
    "import pandas as pd\n",
    "import numpy as np\n",
    "import seaborn as sns\n",
    "import matplotlib.pyplot as plt\n"
   ]
  },
  {
   "cell_type": "code",
   "execution_count": 5,
   "id": "1639b5e7",
   "metadata": {},
   "outputs": [],
   "source": [
    "df = pd.read_csv(\"acdemic_data.csv\")"
   ]
  },
  {
   "cell_type": "code",
   "execution_count": 6,
   "id": "f295c060",
   "metadata": {},
   "outputs": [
    {
     "data": {
      "text/html": [
       "<div>\n",
       "<style scoped>\n",
       "    .dataframe tbody tr th:only-of-type {\n",
       "        vertical-align: middle;\n",
       "    }\n",
       "\n",
       "    .dataframe tbody tr th {\n",
       "        vertical-align: top;\n",
       "    }\n",
       "\n",
       "    .dataframe thead th {\n",
       "        text-align: right;\n",
       "    }\n",
       "</style>\n",
       "<table border=\"1\" class=\"dataframe\">\n",
       "  <thead>\n",
       "    <tr style=\"text-align: right;\">\n",
       "      <th></th>\n",
       "      <th>Firstname</th>\n",
       "      <th>Lastname</th>\n",
       "      <th>Gender</th>\n",
       "      <th>SPOS</th>\n",
       "      <th>DSBDA</th>\n",
       "      <th>WT</th>\n",
       "      <th>DA</th>\n",
       "    </tr>\n",
       "  </thead>\n",
       "  <tbody>\n",
       "    <tr>\n",
       "      <th>0</th>\n",
       "      <td>LA</td>\n",
       "      <td>Roy</td>\n",
       "      <td>M</td>\n",
       "      <td>85.0</td>\n",
       "      <td>88</td>\n",
       "      <td>90.0</td>\n",
       "      <td>92</td>\n",
       "    </tr>\n",
       "    <tr>\n",
       "      <th>1</th>\n",
       "      <td>jh</td>\n",
       "      <td>singh</td>\n",
       "      <td>M</td>\n",
       "      <td>53.0</td>\n",
       "      <td>58</td>\n",
       "      <td>64.0</td>\n",
       "      <td>80</td>\n",
       "    </tr>\n",
       "    <tr>\n",
       "      <th>2</th>\n",
       "      <td>SA</td>\n",
       "      <td>Dixit</td>\n",
       "      <td>F</td>\n",
       "      <td>90.0</td>\n",
       "      <td>90</td>\n",
       "      <td>94.0</td>\n",
       "      <td>95</td>\n",
       "    </tr>\n",
       "    <tr>\n",
       "      <th>3</th>\n",
       "      <td>AB</td>\n",
       "      <td>Danial</td>\n",
       "      <td>M</td>\n",
       "      <td>NaN</td>\n",
       "      <td>na</td>\n",
       "      <td>100.0</td>\n",
       "      <td>80</td>\n",
       "    </tr>\n",
       "    <tr>\n",
       "      <th>4</th>\n",
       "      <td>DA</td>\n",
       "      <td>Kapoor</td>\n",
       "      <td>M</td>\n",
       "      <td>95.0</td>\n",
       "      <td>86</td>\n",
       "      <td>500.0</td>\n",
       "      <td>82</td>\n",
       "    </tr>\n",
       "  </tbody>\n",
       "</table>\n",
       "</div>"
      ],
      "text/plain": [
       "  Firstname Lastname Gender  SPOS DSBDA     WT  DA\n",
       "0        LA      Roy      M  85.0    88   90.0  92\n",
       "1        jh    singh      M  53.0    58   64.0  80\n",
       "2        SA    Dixit      F  90.0    90   94.0  95\n",
       "3        AB   Danial      M   NaN    na  100.0  80\n",
       "4        DA   Kapoor      M  95.0    86  500.0  82"
      ]
     },
     "execution_count": 6,
     "metadata": {},
     "output_type": "execute_result"
    }
   ],
   "source": [
    "df.head(5)"
   ]
  },
  {
   "cell_type": "code",
   "execution_count": 7,
   "id": "a09b15ef",
   "metadata": {},
   "outputs": [],
   "source": [
    "missing_value_formats = [\"n.a.\",\"?\",\"NA\",\"n/a\", \"na\", \"--\"]\n",
    "df = pd.read_csv(\"acdemic_data.csv\", na_values = missing_value_formats)"
   ]
  },
  {
   "cell_type": "code",
   "execution_count": 8,
   "id": "3cc65e89",
   "metadata": {},
   "outputs": [
    {
     "data": {
      "text/plain": [
       "0    M\n",
       "1    M\n",
       "2    F\n",
       "3    M\n",
       "4    M\n",
       "5    F\n",
       "6    F\n",
       "7    M\n",
       "8    F\n",
       "9    M\n",
       "Name: Gender, dtype: object"
      ]
     },
     "execution_count": 8,
     "metadata": {},
     "output_type": "execute_result"
    }
   ],
   "source": [
    "df['Gender'].head(10)"
   ]
  },
  {
   "cell_type": "code",
   "execution_count": 9,
   "id": "6a0c050b",
   "metadata": {},
   "outputs": [
    {
     "data": {
      "text/plain": [
       "0     True\n",
       "1     True\n",
       "2     True\n",
       "3     True\n",
       "4     True\n",
       "5     True\n",
       "6     True\n",
       "7     True\n",
       "8     True\n",
       "9     True\n",
       "10    True\n",
       "11    True\n",
       "12    True\n",
       "Name: Gender, dtype: bool"
      ]
     },
     "execution_count": 9,
     "metadata": {},
     "output_type": "execute_result"
    }
   ],
   "source": [
    "df['Gender'].notnull().head(15)"
   ]
  },
  {
   "cell_type": "code",
   "execution_count": 10,
   "id": "2c2eb665",
   "metadata": {},
   "outputs": [],
   "source": [
    "null_filter = df['Gender'].notnull()"
   ]
  },
  {
   "cell_type": "code",
   "execution_count": 11,
   "id": "bad510f6",
   "metadata": {},
   "outputs": [
    {
     "data": {
      "text/html": [
       "<div>\n",
       "<style scoped>\n",
       "    .dataframe tbody tr th:only-of-type {\n",
       "        vertical-align: middle;\n",
       "    }\n",
       "\n",
       "    .dataframe tbody tr th {\n",
       "        vertical-align: top;\n",
       "    }\n",
       "\n",
       "    .dataframe thead th {\n",
       "        text-align: right;\n",
       "    }\n",
       "</style>\n",
       "<table border=\"1\" class=\"dataframe\">\n",
       "  <thead>\n",
       "    <tr style=\"text-align: right;\">\n",
       "      <th></th>\n",
       "      <th>Firstname</th>\n",
       "      <th>Lastname</th>\n",
       "      <th>Gender</th>\n",
       "      <th>SPOS</th>\n",
       "      <th>DSBDA</th>\n",
       "      <th>WT</th>\n",
       "      <th>DA</th>\n",
       "    </tr>\n",
       "  </thead>\n",
       "  <tbody>\n",
       "    <tr>\n",
       "      <th>0</th>\n",
       "      <td>LA</td>\n",
       "      <td>Roy</td>\n",
       "      <td>M</td>\n",
       "      <td>85.0</td>\n",
       "      <td>88.0</td>\n",
       "      <td>90.0</td>\n",
       "      <td>92</td>\n",
       "    </tr>\n",
       "    <tr>\n",
       "      <th>1</th>\n",
       "      <td>jh</td>\n",
       "      <td>singh</td>\n",
       "      <td>M</td>\n",
       "      <td>53.0</td>\n",
       "      <td>58.0</td>\n",
       "      <td>64.0</td>\n",
       "      <td>80</td>\n",
       "    </tr>\n",
       "    <tr>\n",
       "      <th>2</th>\n",
       "      <td>SA</td>\n",
       "      <td>Dixit</td>\n",
       "      <td>F</td>\n",
       "      <td>90.0</td>\n",
       "      <td>90.0</td>\n",
       "      <td>94.0</td>\n",
       "      <td>95</td>\n",
       "    </tr>\n",
       "    <tr>\n",
       "      <th>3</th>\n",
       "      <td>AB</td>\n",
       "      <td>Danial</td>\n",
       "      <td>M</td>\n",
       "      <td>NaN</td>\n",
       "      <td>NaN</td>\n",
       "      <td>100.0</td>\n",
       "      <td>80</td>\n",
       "    </tr>\n",
       "    <tr>\n",
       "      <th>4</th>\n",
       "      <td>DA</td>\n",
       "      <td>Kapoor</td>\n",
       "      <td>M</td>\n",
       "      <td>95.0</td>\n",
       "      <td>86.0</td>\n",
       "      <td>500.0</td>\n",
       "      <td>82</td>\n",
       "    </tr>\n",
       "    <tr>\n",
       "      <th>5</th>\n",
       "      <td>SA</td>\n",
       "      <td>Jha</td>\n",
       "      <td>F</td>\n",
       "      <td>NaN</td>\n",
       "      <td>84.0</td>\n",
       "      <td>98.0</td>\n",
       "      <td>84</td>\n",
       "    </tr>\n",
       "    <tr>\n",
       "      <th>6</th>\n",
       "      <td>WS</td>\n",
       "      <td>Thakur</td>\n",
       "      <td>F</td>\n",
       "      <td>87.0</td>\n",
       "      <td>NaN</td>\n",
       "      <td>97.0</td>\n",
       "      <td>86</td>\n",
       "    </tr>\n",
       "    <tr>\n",
       "      <th>7</th>\n",
       "      <td>DY</td>\n",
       "      <td>Kapoor</td>\n",
       "      <td>M</td>\n",
       "      <td>81.0</td>\n",
       "      <td>80.0</td>\n",
       "      <td>96.0</td>\n",
       "      <td>89</td>\n",
       "    </tr>\n",
       "    <tr>\n",
       "      <th>8</th>\n",
       "      <td>JK</td>\n",
       "      <td>Khanna</td>\n",
       "      <td>F</td>\n",
       "      <td>40.0</td>\n",
       "      <td>88.0</td>\n",
       "      <td>95.0</td>\n",
       "      <td>87</td>\n",
       "    </tr>\n",
       "    <tr>\n",
       "      <th>9</th>\n",
       "      <td>RT</td>\n",
       "      <td>Pardesi</td>\n",
       "      <td>M</td>\n",
       "      <td>10.0</td>\n",
       "      <td>96.0</td>\n",
       "      <td>94.0</td>\n",
       "      <td>88</td>\n",
       "    </tr>\n",
       "    <tr>\n",
       "      <th>10</th>\n",
       "      <td>UV</td>\n",
       "      <td>Pardesi</td>\n",
       "      <td>M</td>\n",
       "      <td>9.0</td>\n",
       "      <td>NaN</td>\n",
       "      <td>93.0</td>\n",
       "      <td>96</td>\n",
       "    </tr>\n",
       "    <tr>\n",
       "      <th>11</th>\n",
       "      <td>MN</td>\n",
       "      <td>Desai</td>\n",
       "      <td>F</td>\n",
       "      <td>200.0</td>\n",
       "      <td>87.0</td>\n",
       "      <td>NaN</td>\n",
       "      <td>N.A</td>\n",
       "    </tr>\n",
       "    <tr>\n",
       "      <th>12</th>\n",
       "      <td>BC</td>\n",
       "      <td>Patel</td>\n",
       "      <td>F</td>\n",
       "      <td>300.0</td>\n",
       "      <td>NaN</td>\n",
       "      <td>88.0</td>\n",
       "      <td>300</td>\n",
       "    </tr>\n",
       "  </tbody>\n",
       "</table>\n",
       "</div>"
      ],
      "text/plain": [
       "   Firstname Lastname Gender   SPOS  DSBDA     WT   DA\n",
       "0         LA      Roy      M   85.0   88.0   90.0   92\n",
       "1         jh    singh      M   53.0   58.0   64.0   80\n",
       "2         SA    Dixit      F   90.0   90.0   94.0   95\n",
       "3         AB   Danial      M    NaN    NaN  100.0   80\n",
       "4         DA   Kapoor      M   95.0   86.0  500.0   82\n",
       "5         SA      Jha      F    NaN   84.0   98.0   84\n",
       "6         WS   Thakur      F   87.0    NaN   97.0   86\n",
       "7         DY   Kapoor      M   81.0   80.0   96.0   89\n",
       "8         JK   Khanna      F   40.0   88.0   95.0   87\n",
       "9         RT  Pardesi      M   10.0   96.0   94.0   88\n",
       "10        UV  Pardesi      M    9.0    NaN   93.0   96\n",
       "11        MN    Desai      F  200.0   87.0    NaN  N.A\n",
       "12        BC    Patel      F  300.0    NaN   88.0  300"
      ]
     },
     "execution_count": 11,
     "metadata": {},
     "output_type": "execute_result"
    }
   ],
   "source": [
    "df[null_filter]"
   ]
  },
  {
   "cell_type": "code",
   "execution_count": 12,
   "id": "f29acb75",
   "metadata": {},
   "outputs": [
    {
     "data": {
      "text/plain": [
       "Firstname    0\n",
       "Lastname     0\n",
       "Gender       0\n",
       "SPOS         2\n",
       "DSBDA        4\n",
       "WT           1\n",
       "DA           0\n",
       "dtype: int64"
      ]
     },
     "execution_count": 12,
     "metadata": {},
     "output_type": "execute_result"
    }
   ],
   "source": [
    "df.isnull().sum()"
   ]
  },
  {
   "cell_type": "code",
   "execution_count": 13,
   "id": "0b271833",
   "metadata": {},
   "outputs": [],
   "source": [
    "df.dropna(axis=0,inplace=True)"
   ]
  },
  {
   "cell_type": "code",
   "execution_count": 14,
   "id": "7b2fac8a",
   "metadata": {},
   "outputs": [
    {
     "data": {
      "text/plain": [
       "0    85.0\n",
       "1    53.0\n",
       "2    90.0\n",
       "4    95.0\n",
       "7    81.0\n",
       "8    40.0\n",
       "9    10.0\n",
       "Name: SPOS, dtype: float64"
      ]
     },
     "execution_count": 14,
     "metadata": {},
     "output_type": "execute_result"
    }
   ],
   "source": [
    "df['SPOS'].head(10)"
   ]
  },
  {
   "cell_type": "code",
   "execution_count": 15,
   "id": "3132e5c6",
   "metadata": {},
   "outputs": [
    {
     "data": {
      "text/html": [
       "<div>\n",
       "<style scoped>\n",
       "    .dataframe tbody tr th:only-of-type {\n",
       "        vertical-align: middle;\n",
       "    }\n",
       "\n",
       "    .dataframe tbody tr th {\n",
       "        vertical-align: top;\n",
       "    }\n",
       "\n",
       "    .dataframe thead th {\n",
       "        text-align: right;\n",
       "    }\n",
       "</style>\n",
       "<table border=\"1\" class=\"dataframe\">\n",
       "  <thead>\n",
       "    <tr style=\"text-align: right;\">\n",
       "      <th></th>\n",
       "      <th>Firstname</th>\n",
       "      <th>Lastname</th>\n",
       "      <th>Gender</th>\n",
       "      <th>SPOS</th>\n",
       "      <th>DSBDA</th>\n",
       "      <th>WT</th>\n",
       "      <th>DA</th>\n",
       "    </tr>\n",
       "  </thead>\n",
       "  <tbody>\n",
       "    <tr>\n",
       "      <th>2</th>\n",
       "      <td>SA</td>\n",
       "      <td>Dixit</td>\n",
       "      <td>F</td>\n",
       "      <td>90.0</td>\n",
       "      <td>90.0</td>\n",
       "      <td>94.0</td>\n",
       "      <td>95</td>\n",
       "    </tr>\n",
       "    <tr>\n",
       "      <th>4</th>\n",
       "      <td>DA</td>\n",
       "      <td>Kapoor</td>\n",
       "      <td>M</td>\n",
       "      <td>95.0</td>\n",
       "      <td>86.0</td>\n",
       "      <td>500.0</td>\n",
       "      <td>82</td>\n",
       "    </tr>\n",
       "    <tr>\n",
       "      <th>7</th>\n",
       "      <td>DY</td>\n",
       "      <td>Kapoor</td>\n",
       "      <td>M</td>\n",
       "      <td>81.0</td>\n",
       "      <td>80.0</td>\n",
       "      <td>96.0</td>\n",
       "      <td>89</td>\n",
       "    </tr>\n",
       "    <tr>\n",
       "      <th>8</th>\n",
       "      <td>JK</td>\n",
       "      <td>Khanna</td>\n",
       "      <td>F</td>\n",
       "      <td>40.0</td>\n",
       "      <td>88.0</td>\n",
       "      <td>95.0</td>\n",
       "      <td>87</td>\n",
       "    </tr>\n",
       "    <tr>\n",
       "      <th>9</th>\n",
       "      <td>RT</td>\n",
       "      <td>Pardesi</td>\n",
       "      <td>M</td>\n",
       "      <td>10.0</td>\n",
       "      <td>96.0</td>\n",
       "      <td>94.0</td>\n",
       "      <td>88</td>\n",
       "    </tr>\n",
       "  </tbody>\n",
       "</table>\n",
       "</div>"
      ],
      "text/plain": [
       "  Firstname Lastname Gender  SPOS  DSBDA     WT  DA\n",
       "2        SA    Dixit      F  90.0   90.0   94.0  95\n",
       "4        DA   Kapoor      M  95.0   86.0  500.0  82\n",
       "7        DY   Kapoor      M  81.0   80.0   96.0  89\n",
       "8        JK   Khanna      F  40.0   88.0   95.0  87\n",
       "9        RT  Pardesi      M  10.0   96.0   94.0  88"
      ]
     },
     "execution_count": 15,
     "metadata": {},
     "output_type": "execute_result"
    }
   ],
   "source": [
    "df.head(5) \n",
    "df.tail(5)"
   ]
  },
  {
   "cell_type": "code",
   "execution_count": 16,
   "id": "32e69793",
   "metadata": {},
   "outputs": [],
   "source": [
    "null_filter = df['Gender'].notnull()"
   ]
  },
  {
   "cell_type": "markdown",
   "id": "d2851819",
   "metadata": {},
   "source": [
    "df[null_filter]"
   ]
  },
  {
   "cell_type": "code",
   "execution_count": 17,
   "id": "1ce2d8aa",
   "metadata": {},
   "outputs": [
    {
     "name": "stdout",
     "output_type": "stream",
     "text": [
      "  Firstname Lastname Gender  SPOS  DSBDA     WT  DA\n",
      "0        LA      Roy      M  85.0   88.0   90.0  92\n",
      "1        jh    singh      M  53.0   58.0   64.0  80\n",
      "2        SA    Dixit      F  90.0   90.0   94.0  95\n",
      "4        DA   Kapoor      M  95.0   86.0  500.0  82\n",
      "7        DY   Kapoor      M  81.0   80.0   96.0  89\n",
      "8        JK   Khanna      F  40.0   88.0   95.0  87\n",
      "9        RT  Pardesi      M  10.0   96.0   94.0  88\n"
     ]
    }
   ],
   "source": [
    "print(df[null_filter])"
   ]
  },
  {
   "cell_type": "code",
   "execution_count": 18,
   "id": "1406e225",
   "metadata": {},
   "outputs": [
    {
     "name": "stdout",
     "output_type": "stream",
     "text": [
      "False\n"
     ]
    }
   ],
   "source": [
    "print(df.isnull().values.any())"
   ]
  },
  {
   "cell_type": "code",
   "execution_count": 19,
   "id": "ea894f79",
   "metadata": {},
   "outputs": [
    {
     "name": "stdout",
     "output_type": "stream",
     "text": [
      "Firstname    0\n",
      "Lastname     0\n",
      "Gender       0\n",
      "SPOS         0\n",
      "DSBDA        0\n",
      "WT           0\n",
      "DA           0\n",
      "dtype: int64\n"
     ]
    }
   ],
   "source": [
    "print(df.isnull().sum())"
   ]
  },
  {
   "cell_type": "code",
   "execution_count": 20,
   "id": "520f9a47",
   "metadata": {},
   "outputs": [],
   "source": [
    "df.dropna(axis=0,inplace=True)"
   ]
  },
  {
   "cell_type": "code",
   "execution_count": 21,
   "id": "59435f16",
   "metadata": {},
   "outputs": [],
   "source": [
    "new_df = df.dropna(axis = 0, how ='any')"
   ]
  },
  {
   "cell_type": "code",
   "execution_count": 22,
   "id": "894a14a8",
   "metadata": {},
   "outputs": [],
   "source": [
    "new_df = df.dropna(axis = 0, how ='all')"
   ]
  },
  {
   "cell_type": "code",
   "execution_count": 23,
   "id": "fdb7fc69",
   "metadata": {},
   "outputs": [],
   "source": [
    "new_df = df.dropna(axis = 1, how ='any')"
   ]
  },
  {
   "cell_type": "code",
   "execution_count": 24,
   "id": "75de254d",
   "metadata": {},
   "outputs": [],
   "source": [
    "new_df = df.dropna(axis = 1, how ='all')"
   ]
  },
  {
   "cell_type": "code",
   "execution_count": 25,
   "id": "c440c760",
   "metadata": {},
   "outputs": [
    {
     "name": "stderr",
     "output_type": "stream",
     "text": [
      "C:\\Users\\singh\\AppData\\Local\\Temp\\ipykernel_21088\\337399362.py:1: FutureWarning: A value is trying to be set on a copy of a DataFrame or Series through chained assignment using an inplace method.\n",
      "The behavior will change in pandas 3.0. This inplace method will never work because the intermediate object on which we are setting values always behaves as a copy.\n",
      "\n",
      "For example, when doing 'df[col].method(value, inplace=True)', try using 'df.method({col: value}, inplace=True)' or df[col] = df[col].method(value) instead, to perform the operation inplace on the original object.\n",
      "\n",
      "\n",
      "  df['SPOS'].fillna(0, inplace=True)\n"
     ]
    }
   ],
   "source": [
    "df['SPOS'].fillna(0, inplace=True)"
   ]
  },
  {
   "cell_type": "code",
   "execution_count": 26,
   "id": "34651fc9",
   "metadata": {},
   "outputs": [
    {
     "name": "stdout",
     "output_type": "stream",
     "text": [
      "0    85.0\n",
      "1    53.0\n",
      "2    90.0\n",
      "4    95.0\n",
      "7    81.0\n",
      "8    40.0\n",
      "9    10.0\n",
      "Name: SPOS, dtype: float64\n"
     ]
    }
   ],
   "source": [
    "print(df['SPOS'].head(10))\n"
   ]
  },
  {
   "cell_type": "code",
   "execution_count": 27,
   "id": "17d7fa31",
   "metadata": {},
   "outputs": [
    {
     "name": "stdout",
     "output_type": "stream",
     "text": [
      "0    85.0\n",
      "1    53.0\n",
      "2    90.0\n",
      "4    95.0\n",
      "7    81.0\n",
      "8    40.0\n",
      "9    10.0\n",
      "Name: SPOS, dtype: float64\n"
     ]
    },
    {
     "name": "stderr",
     "output_type": "stream",
     "text": [
      "C:\\Users\\singh\\AppData\\Local\\Temp\\ipykernel_21088\\716566806.py:1: FutureWarning: A value is trying to be set on a copy of a DataFrame or Series through chained assignment using an inplace method.\n",
      "The behavior will change in pandas 3.0. This inplace method will never work because the intermediate object on which we are setting values always behaves as a copy.\n",
      "\n",
      "For example, when doing 'df[col].method(value, inplace=True)', try using 'df.method({col: value}, inplace=True)' or df[col] = df[col].method(value) instead, to perform the operation inplace on the original object.\n",
      "\n",
      "\n",
      "  df['SPOS'].fillna(method='bfill', inplace=True)\n",
      "C:\\Users\\singh\\AppData\\Local\\Temp\\ipykernel_21088\\716566806.py:1: FutureWarning: Series.fillna with 'method' is deprecated and will raise in a future version. Use obj.ffill() or obj.bfill() instead.\n",
      "  df['SPOS'].fillna(method='bfill', inplace=True)\n"
     ]
    }
   ],
   "source": [
    "df['SPOS'].fillna(method='bfill', inplace=True) \n",
    "print(df['SPOS'].head(10))"
   ]
  },
  {
   "cell_type": "code",
   "execution_count": 28,
   "id": "ceb2d2d5",
   "metadata": {},
   "outputs": [
    {
     "name": "stdout",
     "output_type": "stream",
     "text": [
      "0    88.0\n",
      "1    58.0\n",
      "2    90.0\n",
      "4    86.0\n",
      "7    80.0\n",
      "8    88.0\n",
      "9    96.0\n",
      "Name: DSBDA, dtype: float64\n"
     ]
    },
    {
     "name": "stderr",
     "output_type": "stream",
     "text": [
      "C:\\Users\\singh\\AppData\\Local\\Temp\\ipykernel_21088\\2837439953.py:1: FutureWarning: A value is trying to be set on a copy of a DataFrame or Series through chained assignment using an inplace method.\n",
      "The behavior will change in pandas 3.0. This inplace method will never work because the intermediate object on which we are setting values always behaves as a copy.\n",
      "\n",
      "For example, when doing 'df[col].method(value, inplace=True)', try using 'df.method({col: value}, inplace=True)' or df[col] = df[col].method(value) instead, to perform the operation inplace on the original object.\n",
      "\n",
      "\n",
      "  df['DSBDA'].fillna(method='pad', inplace=True)\n",
      "C:\\Users\\singh\\AppData\\Local\\Temp\\ipykernel_21088\\2837439953.py:1: FutureWarning: Series.fillna with 'method' is deprecated and will raise in a future version. Use obj.ffill() or obj.bfill() instead.\n",
      "  df['DSBDA'].fillna(method='pad', inplace=True)\n"
     ]
    }
   ],
   "source": [
    "df['DSBDA'].fillna(method='pad', inplace=True)\n",
    "print(df['DSBDA'].head(10))"
   ]
  },
  {
   "cell_type": "code",
   "execution_count": 29,
   "id": "7e0155d1",
   "metadata": {},
   "outputs": [
    {
     "data": {
      "text/plain": [
       "(7, 7)"
      ]
     },
     "execution_count": 29,
     "metadata": {},
     "output_type": "execute_result"
    }
   ],
   "source": [
    "df.shape"
   ]
  },
  {
   "cell_type": "code",
   "execution_count": 30,
   "id": "bf940803",
   "metadata": {},
   "outputs": [
    {
     "data": {
      "text/plain": [
       "{'whiskers': [<matplotlib.lines.Line2D at 0x1b6f1fcafd0>,\n",
       "  <matplotlib.lines.Line2D at 0x1b6f1fcb110>],\n",
       " 'caps': [<matplotlib.lines.Line2D at 0x1b6f1fcb250>,\n",
       "  <matplotlib.lines.Line2D at 0x1b6f1fcb390>],\n",
       " 'boxes': [<matplotlib.lines.Line2D at 0x1b6f1e02d50>],\n",
       " 'medians': [<matplotlib.lines.Line2D at 0x1b6f1fcb4d0>],\n",
       " 'fliers': [<matplotlib.lines.Line2D at 0x1b6f1fcb610>],\n",
       " 'means': []}"
      ]
     },
     "execution_count": 30,
     "metadata": {},
     "output_type": "execute_result"
    },
    {
     "data": {
      "image/png": "[encoded data removed]",
      "text/plain": [
       "<Figure size 640x480 with 1 Axes>"
      ]
     },
     "metadata": {},
     "output_type": "display_data"
    }
   ],
   "source": [
    "plt.boxplot(x=df['SPOS'])"
   ]
  },
  {
   "cell_type": "code",
   "execution_count": 31,
   "id": "829612c0",
   "metadata": {},
   "outputs": [
    {
     "data": {
      "text/plain": [
       "{'whiskers': [<matplotlib.lines.Line2D at 0x1b6f203b390>,\n",
       "  <matplotlib.lines.Line2D at 0x1b6f203b4d0>],\n",
       " 'caps': [<matplotlib.lines.Line2D at 0x1b6f203b610>,\n",
       "  <matplotlib.lines.Line2D at 0x1b6f203b750>],\n",
       " 'boxes': [<matplotlib.lines.Line2D at 0x1b6f203b250>],\n",
       " 'medians': [<matplotlib.lines.Line2D at 0x1b6f203b890>],\n",
       " 'fliers': [<matplotlib.lines.Line2D at 0x1b6f203b9d0>],\n",
       " 'means': []}"
      ]
     },
     "execution_count": 31,
     "metadata": {},
     "output_type": "execute_result"
    },
    {
     "data": {
      "image/png": "[encoded data removed]",
      "text/plain": [
       "<Figure size 640x480 with 1 Axes>"
      ]
     },
     "metadata": {},
     "output_type": "display_data"
    }
   ],
   "source": [
    "plt.boxplot(x=df['DSBDA'])"
   ]
  },
  {
   "cell_type": "code",
   "execution_count": 32,
   "id": "b0adc6a4",
   "metadata": {},
   "outputs": [
    {
     "data": {
      "text/plain": [
       "{'whiskers': [<matplotlib.lines.Line2D at 0x1b6f20d8050>,\n",
       "  <matplotlib.lines.Line2D at 0x1b6f20d8190>],\n",
       " 'caps': [<matplotlib.lines.Line2D at 0x1b6f20d82d0>,\n",
       "  <matplotlib.lines.Line2D at 0x1b6f20d8410>],\n",
       " 'boxes': [<matplotlib.lines.Line2D at 0x1b6f20a7ed0>],\n",
       " 'medians': [<matplotlib.lines.Line2D at 0x1b6f20d8550>],\n",
       " 'fliers': [<matplotlib.lines.Line2D at 0x1b6f20d8690>],\n",
       " 'means': []}"
      ]
     },
     "execution_count": 32,
     "metadata": {},
     "output_type": "execute_result"
    },
    {
     "data": {
      "image/png": "[encoded data removed]",
      "text/plain": [
       "<Figure size 640x480 with 1 Axes>"
      ]
     },
     "metadata": {},
     "output_type": "display_data"
    }
   ],
   "source": [
    "plt.boxplot(x=df['WT'])"
   ]
  },
  {
   "cell_type": "code",
   "execution_count": null,
   "id": "bd91b52b",
   "metadata": {},
   "outputs": [],
   "source": []
  }
 ],
 "metadata": {
  "kernelspec": {
   "display_name": "Python 3",
   "language": "python",
   "name": "python3"
  },
  "language_info": {
   "codemirror_mode": {
    "name": "ipython",
    "version": 3
   },
   "file_extension": ".py",
   "mimetype": "text/x-python",
   "name": "python",
   "nbconvert_exporter": "python",
   "pygments_lexer": "ipython3",
   "version": "3.13.3"
  }
 },
 "nbformat": 4,
 "nbformat_minor": 5
}
