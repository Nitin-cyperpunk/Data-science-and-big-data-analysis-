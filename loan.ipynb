{
 "cells": [
  {
   "cell_type": "code",
   "execution_count": 2,
   "id": "16a51618",
   "metadata": {},
   "outputs": [],
   "source": [
    "import pandas as pd\n",
    "import numpy as np\n",
    "import statistics as st"
   ]
  },
  {
   "cell_type": "code",
   "execution_count": 3,
   "id": "09ee5122",
   "metadata": {},
   "outputs": [],
   "source": [
    "df = pd.read_csv(\"loan.csv\");"
   ]
  },
  {
   "cell_type": "code",
   "execution_count": 4,
   "id": "1e1a0f3a",
   "metadata": {},
   "outputs": [
    {
     "name": "stdout",
     "output_type": "stream",
     "text": [
      "(500, 15)\n"
     ]
    }
   ],
   "source": [
    "print(df.shape)"
   ]
  },
  {
   "cell_type": "code",
   "execution_count": 5,
   "id": "993daadb",
   "metadata": {},
   "outputs": [
    {
     "name": "stdout",
     "output_type": "stream",
     "text": [
      "<class 'pandas.core.frame.DataFrame'>\n",
      "RangeIndex: 500 entries, 0 to 499\n",
      "Data columns (total 15 columns):\n",
      " #   Column             Non-Null Count  Dtype  \n",
      "---  ------             --------------  -----  \n",
      " 0   Unnamed: 0         500 non-null    int64  \n",
      " 1   Loan_ID            500 non-null    object \n",
      " 2   Gender             491 non-null    object \n",
      " 3   Married            497 non-null    object \n",
      " 4   Dependents         488 non-null    object \n",
      " 5   Education          500 non-null    object \n",
      " 6   Self_Employed      473 non-null    object \n",
      " 7   ApplicantIncome    500 non-null    int64  \n",
      " 8   CoapplicantIncome  500 non-null    float64\n",
      " 9   LoanAmount         482 non-null    float64\n",
      " 10  Loan_Amount_Term   486 non-null    float64\n",
      " 11  Credit_History     459 non-null    float64\n",
      " 12  Property_Area      500 non-null    object \n",
      " 13  Loan_Status        500 non-null    object \n",
      " 14  Total_Income       500 non-null    object \n",
      "dtypes: float64(4), int64(2), object(9)\n",
      "memory usage: 58.7+ KB\n"
     ]
    }
   ],
   "source": [
    "df.info()"
   ]
  },
  {
   "cell_type": "code",
   "execution_count": 6,
   "id": "1ec06843",
   "metadata": {},
   "outputs": [
    {
     "data": {
      "text/plain": [
       "Unnamed: 0            249.500000\n",
       "Loan_ID                      NaN\n",
       "Gender                       NaN\n",
       "Married                      NaN\n",
       "Dependents              0.533482\n",
       "Education                    NaN\n",
       "Self_Employed                NaN\n",
       "ApplicantIncome      5493.644000\n",
       "CoapplicantIncome    1506.307840\n",
       "LoanAmount            144.020747\n",
       "Loan_Amount_Term      342.543210\n",
       "Credit_History          0.843137\n",
       "Property_Area                NaN\n",
       "Loan_Status                  NaN\n",
       "Total_Income                 NaN\n",
       "dtype: float64"
      ]
     },
     "execution_count": 6,
     "metadata": {},
     "output_type": "execute_result"
    }
   ],
   "source": [
    "df = df.apply(pd.to_numeric, errors='coerce')\n",
    "df.mean()"
   ]
  },
  {
   "cell_type": "code",
   "execution_count": 7,
   "id": "e6786353",
   "metadata": {},
   "outputs": [
    {
     "data": {
      "text/plain": [
       "Unnamed: 0             499.0\n",
       "Loan_ID                  NaN\n",
       "Gender                   NaN\n",
       "Married                  NaN\n",
       "Dependents               2.0\n",
       "Education                NaN\n",
       "Self_Employed            NaN\n",
       "ApplicantIncome      81000.0\n",
       "CoapplicantIncome    20000.0\n",
       "LoanAmount             700.0\n",
       "Loan_Amount_Term       480.0\n",
       "Credit_History           1.0\n",
       "Property_Area            NaN\n",
       "Loan_Status              NaN\n",
       "Total_Income             NaN\n",
       "dtype: float64"
      ]
     },
     "execution_count": 7,
     "metadata": {},
     "output_type": "execute_result"
    }
   ],
   "source": [
    "df.max()"
   ]
  },
  {
   "cell_type": "code",
   "execution_count": 8,
   "id": "cfaaee9e",
   "metadata": {},
   "outputs": [
    {
     "data": {
      "text/plain": [
       "Unnamed: 0             0.0\n",
       "Loan_ID                NaN\n",
       "Gender                 NaN\n",
       "Married                NaN\n",
       "Dependents             0.0\n",
       "Education              NaN\n",
       "Self_Employed          NaN\n",
       "ApplicantIncome      150.0\n",
       "CoapplicantIncome      0.0\n",
       "LoanAmount            17.0\n",
       "Loan_Amount_Term      12.0\n",
       "Credit_History         0.0\n",
       "Property_Area          NaN\n",
       "Loan_Status            NaN\n",
       "Total_Income           NaN\n",
       "dtype: float64"
      ]
     },
     "execution_count": 8,
     "metadata": {},
     "output_type": "execute_result"
    }
   ],
   "source": [
    "df.min()"
   ]
  },
  {
   "cell_type": "code",
   "execution_count": 9,
   "id": "d9c2be99",
   "metadata": {},
   "outputs": [
    {
     "data": {
      "text/plain": [
       "Unnamed: 0            249.5\n",
       "Loan_ID                 NaN\n",
       "Gender                  NaN\n",
       "Married                 NaN\n",
       "Dependents              0.0\n",
       "Education               NaN\n",
       "Self_Employed           NaN\n",
       "ApplicantIncome      3854.0\n",
       "CoapplicantIncome    1125.5\n",
       "LoanAmount            126.5\n",
       "Loan_Amount_Term      360.0\n",
       "Credit_History          1.0\n",
       "Property_Area           NaN\n",
       "Loan_Status             NaN\n",
       "Total_Income            NaN\n",
       "dtype: float64"
      ]
     },
     "execution_count": 9,
     "metadata": {},
     "output_type": "execute_result"
    }
   ],
   "source": [
    "df.median()"
   ]
  },
  {
   "cell_type": "code",
   "execution_count": 10,
   "id": "7f9c67d4",
   "metadata": {},
   "outputs": [
    {
     "data": {
      "text/plain": [
       "Unnamed: 0            144.481833\n",
       "Loan_ID                      NaN\n",
       "Gender                       NaN\n",
       "Married                      NaN\n",
       "Dependents              0.776468\n",
       "Education                    NaN\n",
       "Self_Employed                NaN\n",
       "ApplicantIncome      6515.668972\n",
       "CoapplicantIncome    2134.432188\n",
       "LoanAmount             82.344919\n",
       "Loan_Amount_Term       63.834977\n",
       "Credit_History          0.364068\n",
       "Property_Area                NaN\n",
       "Loan_Status                  NaN\n",
       "Total_Income                 NaN\n",
       "dtype: float64"
      ]
     },
     "execution_count": 10,
     "metadata": {},
     "output_type": "execute_result"
    }
   ],
   "source": [
    "df.std()"
   ]
  },
  {
   "cell_type": "code",
   "execution_count": 13,
   "id": "ec75d40c",
   "metadata": {},
   "outputs": [
    {
     "name": "stdout",
     "output_type": "stream",
     "text": [
      "342.5432098765432\n"
     ]
    }
   ],
   "source": [
    "print(df.loc[:,'Loan_Amount_Term'].mean())"
   ]
  },
  {
   "cell_type": "code",
   "execution_count": 14,
   "id": "5c0402b7",
   "metadata": {},
   "outputs": [
    {
     "name": "stdout",
     "output_type": "stream",
     "text": [
      "144.0207468879668\n"
     ]
    }
   ],
   "source": [
    "print(df.loc[:,'LoanAmount'].mean())"
   ]
  },
  {
   "cell_type": "code",
   "execution_count": 12,
   "id": "a3042a18",
   "metadata": {},
   "outputs": [
    {
     "name": "stdout",
     "output_type": "stream",
     "text": [
      "5493.644\n"
     ]
    }
   ],
   "source": [
    "print(df.loc[:,'ApplicantIncome'].mean())"
   ]
  },
  {
   "cell_type": "code",
   "execution_count": 19,
   "id": "5cd98a59",
   "metadata": {},
   "outputs": [
    {
     "data": {
      "text/plain": [
       "0    1035.000000\n",
       "1     940.285714\n",
       "2     489.857143\n",
       "3     775.000000\n",
       "4     929.428571\n",
       "5    1464.000000\n",
       "dtype: float64"
      ]
     },
     "execution_count": 19,
     "metadata": {},
     "output_type": "execute_result"
    }
   ],
   "source": [
    "df.mean(axis = 1)[0:6]"
   ]
  },
  {
   "cell_type": "code",
   "execution_count": 22,
   "id": "a4afe6a9",
   "metadata": {},
   "outputs": [
    {
     "name": "stdout",
     "output_type": "stream",
     "text": [
      "126.5\n"
     ]
    }
   ],
   "source": [
    "print(df.loc[:,'LoanAmount'].median())"
   ]
  },
  {
   "cell_type": "code",
   "execution_count": 23,
   "id": "fc8d7828",
   "metadata": {},
   "outputs": [
    {
     "data": {
      "text/plain": [
       "0      0.5\n",
       "1    128.0\n",
       "2      2.0\n",
       "3    120.0\n",
       "4      4.0\n",
       "dtype: float64"
      ]
     },
     "execution_count": 23,
     "metadata": {},
     "output_type": "execute_result"
    }
   ],
   "source": [
    "df.median(axis = 1)[0:5]\n"
   ]
  },
  {
   "cell_type": "code",
   "execution_count": 24,
   "id": "f58d267f",
   "metadata": {},
   "outputs": [
    {
     "data": {
      "text/plain": [
       "Unnamed: 0           2.087500e+04\n",
       "Loan_ID                       NaN\n",
       "Gender                        NaN\n",
       "Married                       NaN\n",
       "Dependents           6.029033e-01\n",
       "Education                     NaN\n",
       "Self_Employed                 NaN\n",
       "ApplicantIncome      4.245394e+07\n",
       "CoapplicantIncome    4.555801e+06\n",
       "LoanAmount           6.780686e+03\n",
       "Loan_Amount_Term     4.074904e+03\n",
       "Credit_History       1.325456e-01\n",
       "Property_Area                 NaN\n",
       "Loan_Status                   NaN\n",
       "Total_Income                  NaN\n",
       "dtype: float64"
      ]
     },
     "execution_count": 24,
     "metadata": {},
     "output_type": "execute_result"
    }
   ],
   "source": [
    "df.var()"
   ]
  },
  {
   "cell_type": "code",
   "execution_count": null,
   "id": "c9f1c626",
   "metadata": {},
   "outputs": [
    {
     "data": {
      "text/html": [
       "<div>\n",
       "<style scoped>\n",
       "    .dataframe tbody tr th:only-of-type {\n",
       "        vertical-align: middle;\n",
       "    }\n",
       "\n",
       "    .dataframe tbody tr th {\n",
       "        vertical-align: top;\n",
       "    }\n",
       "\n",
       "    .dataframe thead th {\n",
       "        text-align: right;\n",
       "    }\n",
       "</style>\n",
       "<table border=\"1\" class=\"dataframe\">\n",
       "  <thead>\n",
       "    <tr style=\"text-align: right;\">\n",
       "      <th></th>\n",
       "      <th>LoanAmount</th>\n",
       "    </tr>\n",
       "    <tr>\n",
       "      <th>Loan_Amount_Term</th>\n",
       "      <th></th>\n",
       "    </tr>\n",
       "  </thead>\n",
       "  <tbody>\n",
       "    <tr>\n",
       "      <th>12.0</th>\n",
       "      <td>111.000000</td>\n",
       "    </tr>\n",
       "    <tr>\n",
       "      <th>36.0</th>\n",
       "      <td>155.000000</td>\n",
       "    </tr>\n",
       "    <tr>\n",
       "      <th>60.0</th>\n",
       "      <td>140.000000</td>\n",
       "    </tr>\n",
       "    <tr>\n",
       "      <th>84.0</th>\n",
       "      <td>124.500000</td>\n",
       "    </tr>\n",
       "    <tr>\n",
       "      <th>120.0</th>\n",
       "      <td>22.333333</td>\n",
       "    </tr>\n",
       "    <tr>\n",
       "      <th>180.0</th>\n",
       "      <td>150.264706</td>\n",
       "    </tr>\n",
       "    <tr>\n",
       "      <th>240.0</th>\n",
       "      <td>75.000000</td>\n",
       "    </tr>\n",
       "    <tr>\n",
       "      <th>300.0</th>\n",
       "      <td>190.250000</td>\n",
       "    </tr>\n",
       "    <tr>\n",
       "      <th>360.0</th>\n",
       "      <td>144.167920</td>\n",
       "    </tr>\n",
       "    <tr>\n",
       "      <th>480.0</th>\n",
       "      <td>155.333333</td>\n",
       "    </tr>\n",
       "  </tbody>\n",
       "</table>\n",
       "</div>"
      ],
      "text/plain": [
       "                  LoanAmount\n",
       "Loan_Amount_Term            \n",
       "12.0              111.000000\n",
       "36.0              155.000000\n",
       "60.0              140.000000\n",
       "84.0              124.500000\n",
       "120.0              22.333333\n",
       "180.0             150.264706\n",
       "240.0              75.000000\n",
       "300.0             190.250000\n",
       "360.0             144.167920\n",
       "480.0             155.333333"
      ]
     },
     "execution_count": 27,
     "metadata": {},
     "output_type": "execute_result"
    }
   ],
   "source": [
    "df[[\"Loan_Amount_Term\",\"LoanAmount\"]].groupby(\"Loan_Amount_Term\").mean()"
   ]
  },
  {
   "cell_type": "code",
   "execution_count": 28,
   "id": "6b08b606",
   "metadata": {},
   "outputs": [
    {
     "data": {
      "text/html": [
       "<div>\n",
       "<style scoped>\n",
       "    .dataframe tbody tr th:only-of-type {\n",
       "        vertical-align: middle;\n",
       "    }\n",
       "\n",
       "    .dataframe tbody tr th {\n",
       "        vertical-align: top;\n",
       "    }\n",
       "\n",
       "    .dataframe thead th {\n",
       "        text-align: right;\n",
       "    }\n",
       "</style>\n",
       "<table border=\"1\" class=\"dataframe\">\n",
       "  <thead>\n",
       "    <tr style=\"text-align: right;\">\n",
       "      <th></th>\n",
       "      <th>LoanAmount</th>\n",
       "    </tr>\n",
       "    <tr>\n",
       "      <th>Loan_Amount_Term</th>\n",
       "      <th></th>\n",
       "    </tr>\n",
       "  </thead>\n",
       "  <tbody>\n",
       "    <tr>\n",
       "      <th>12.0</th>\n",
       "      <td>111.0</td>\n",
       "    </tr>\n",
       "    <tr>\n",
       "      <th>36.0</th>\n",
       "      <td>155.0</td>\n",
       "    </tr>\n",
       "    <tr>\n",
       "      <th>60.0</th>\n",
       "      <td>140.0</td>\n",
       "    </tr>\n",
       "    <tr>\n",
       "      <th>84.0</th>\n",
       "      <td>124.5</td>\n",
       "    </tr>\n",
       "    <tr>\n",
       "      <th>120.0</th>\n",
       "      <td>25.0</td>\n",
       "    </tr>\n",
       "    <tr>\n",
       "      <th>180.0</th>\n",
       "      <td>120.0</td>\n",
       "    </tr>\n",
       "    <tr>\n",
       "      <th>240.0</th>\n",
       "      <td>75.0</td>\n",
       "    </tr>\n",
       "    <tr>\n",
       "      <th>300.0</th>\n",
       "      <td>125.5</td>\n",
       "    </tr>\n",
       "    <tr>\n",
       "      <th>360.0</th>\n",
       "      <td>128.0</td>\n",
       "    </tr>\n",
       "    <tr>\n",
       "      <th>480.0</th>\n",
       "      <td>107.5</td>\n",
       "    </tr>\n",
       "  </tbody>\n",
       "</table>\n",
       "</div>"
      ],
      "text/plain": [
       "                  LoanAmount\n",
       "Loan_Amount_Term            \n",
       "12.0                   111.0\n",
       "36.0                   155.0\n",
       "60.0                   140.0\n",
       "84.0                   124.5\n",
       "120.0                   25.0\n",
       "180.0                  120.0\n",
       "240.0                   75.0\n",
       "300.0                  125.5\n",
       "360.0                  128.0\n",
       "480.0                  107.5"
      ]
     },
     "execution_count": 28,
     "metadata": {},
     "output_type": "execute_result"
    }
   ],
   "source": [
    "df[[\"Loan_Amount_Term\",\"LoanAmount\"]].groupby(\"Loan_Amount_Term\").median()"
   ]
  },
  {
   "cell_type": "code",
   "execution_count": 29,
   "id": "bb2d26a4",
   "metadata": {},
   "outputs": [
    {
     "data": {
      "text/html": [
       "<div>\n",
       "<style scoped>\n",
       "    .dataframe tbody tr th:only-of-type {\n",
       "        vertical-align: middle;\n",
       "    }\n",
       "\n",
       "    .dataframe tbody tr th {\n",
       "        vertical-align: top;\n",
       "    }\n",
       "\n",
       "    .dataframe thead th {\n",
       "        text-align: right;\n",
       "    }\n",
       "</style>\n",
       "<table border=\"1\" class=\"dataframe\">\n",
       "  <thead>\n",
       "    <tr style=\"text-align: right;\">\n",
       "      <th></th>\n",
       "      <th>LoanAmount</th>\n",
       "    </tr>\n",
       "    <tr>\n",
       "      <th>Self_Employed</th>\n",
       "      <th></th>\n",
       "    </tr>\n",
       "  </thead>\n",
       "  <tbody>\n",
       "  </tbody>\n",
       "</table>\n",
       "</div>"
      ],
      "text/plain": [
       "Empty DataFrame\n",
       "Columns: [LoanAmount]\n",
       "Index: []"
      ]
     },
     "execution_count": 29,
     "metadata": {},
     "output_type": "execute_result"
    }
   ],
   "source": [
    "df[[\"Self_Employed\",\"LoanAmount\"]].groupby(\"Self_Employed\").mean()\n"
   ]
  }
 ],
 "metadata": {
  "kernelspec": {
   "display_name": "Python 3",
   "language": "python",
   "name": "python3"
  },
  "language_info": {
   "codemirror_mode": {
    "name": "ipython",
    "version": 3
   },
   "file_extension": ".py",
   "mimetype": "text/x-python",
   "name": "python",
   "nbconvert_exporter": "python",
   "pygments_lexer": "ipython3",
   "version": "3.11.3"
  }
 },
 "nbformat": 4,
 "nbformat_minor": 5
}
